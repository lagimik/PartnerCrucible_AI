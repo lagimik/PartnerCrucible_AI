{
  "cells": [
    {
      "cell_type": "code",
      "execution_count": 1,
      "metadata": {
        "gather": {
          "logged": 1679169224305
        }
      },
      "outputs": [
        {
          "name": "stdout",
          "output_type": "stream",
          "text": [
            "https://lagimik.github.io//PartnerCrucible/DataAISolutionArea\n",
            "--https://microsoft.github.io/PartnerResources/azure/data-analytics-ai/openai\n",
            "--https://docs.microsoft.com/en-us/azure/architecture/example-scenario/dataplate2e/data-platform-end-to-end?tabs=portal\n",
            "--https://lnkd.in/eU4KMdP2\n",
            "--https://lnkd.in/e5cRUCs7\n",
            "--https://msuspartners.eventbuilder.com/EnablePurview\n",
            "--https://partner.microsoft.com/en-us/training/assets/collection/azure-data-and-ai-partner-sales-acceleration-program-psap#\n",
            "--https://techcommunity.microsoft.com/t5/security-compliance-and-identity/the-microsoft-purview-data-loss-prevention-ninja-training-is/ba-p/3659015\n",
            "--https://lnkd.in/dfCKwWDN\n",
            "--https://msuspartners.eventbuilder.com/AIMLPartnerPrep\n",
            "--https://www.youtube.com/@MicrosoftPurview\n",
            "--https://learn.microsoft.com/en-us/rest/api/purview\n",
            "--https://lagimik.github.io//PartnerCrucible/DataAISolutionArea//PartnerCrucible/DataAISolutionArea/ContributorsGuide\n",
            "--https://aka.ms/adx.blog\n",
            "--https://lnkd.in/eUUVTiNQ\n",
            "--https://github.com/Azure/azure-openai-workshop\n",
            "--https://github.com/Azure/ADX-in-a-Day\n",
            "--https://aka.ms/ailearningjourney\n",
            "--https://github.com/lagimik\n",
            "--https://aka.ms/data-engineer-learning-path\n",
            "--https://github.com/tayganr/purviewlab\n",
            "--https://developer.azurecosmosdb.com\n",
            "--https://techcommunity.microsoft.com/t5/azure-synapse-analytics-blog/demystifying-data-explorer/ba-p/3636191\n",
            "--https://aidemos.microsoft.com\n",
            "--https://aka.ms/mllearningjourney\n",
            "--https://github.com/lagimik/PartnerCrucible\n",
            "--https://azure.microsoft.com/en-us/resources/mysql-developer-learning-journey/?OCID=mysql_dev_pdf_MySQL_page\n",
            "--https://aka.ms/adx.sof\n",
            "--https://microsoft.github.io/PartnerResources/skilling/ai-ml-academy\n",
            "--https://pages.github.com\n",
            "--https://lnkd.in/ebZckdX9\n",
            "--https://learn.microsoft.com/en-us/training/modules/explore-azure-openai\n",
            "--https://assetsprod.microsoft.com/mpn/en-us/azure-partner-enablement-guide.pdf\n",
            "--https://azure.microsoft.com/en-us/resources/azure-database-for-mysql-developer-guide/?OCID=mysql_dev_pdf_wk4_try_azd\n",
            "--https://azure.microsoft.com/en-gb/pricing/details/cognitive-services/openai-service\n",
            "--https://query.prod.cms.rt.microsoft.com/cms/api/am/binary/RE4GEtu\n",
            "--https://customervoice.microsoft.com/Pages/ResponsePage.aspx?id=v4j5cvGGr0GRqy180BHbR7en2Ais5pxKtso_Pz4b1_xUOFA5Qk1UWDRBMjg0WFhPMkIzTzhKQ1dWNyQlQCN0PWcu\n",
            "https://customervoice.microsoft.com/Pages/ResponsePage.aspx?id=v4j5cvGGr0GRqy180BHbR7en2Ais5pxKtso_Pz4b1_xUOFA5Qk1UWDRBMjg0WFhPMkIzTzhKQ1dWNyQlQCN0PWcu\n",
            "https://query.prod.cms.rt.microsoft.com/cms/api/am/binary/RE4GEtu\n",
            "https://azure.microsoft.com/en-gb/pricing/details/cognitive-services/openai-service\n",
            "https://azure.microsoft.com/en-us/resources/azure-database-for-mysql-developer-guide/?OCID=mysql_dev_pdf_wk4_try_azd\n",
            "https://assetsprod.microsoft.com/mpn/en-us/azure-partner-enablement-guide.pdf\n",
            "https://learn.microsoft.com/en-us/training/modules/explore-azure-openai\n",
            "https://lnkd.in/ebZckdX9\n",
            "https://pages.github.com\n",
            "https://microsoft.github.io/PartnerResources/skilling/ai-ml-academy\n",
            "https://aka.ms/adx.sof\n",
            "https://azure.microsoft.com/en-us/resources/mysql-developer-learning-journey/?OCID=mysql_dev_pdf_MySQL_page\n",
            "https://github.com/lagimik/PartnerCrucible\n",
            "https://aka.ms/mllearningjourney\n",
            "https://aidemos.microsoft.com\n",
            "Unable to parse page https://aidemos.microsoft.com due to JavaScript being required\n",
            "https://techcommunity.microsoft.com/t5/azure-synapse-analytics-blog/demystifying-data-explorer/ba-p/3636191\n",
            "https://developer.azurecosmosdb.com\n",
            "https://github.com/tayganr/purviewlab\n",
            "https://aka.ms/data-engineer-learning-path\n",
            "https://github.com/lagimik\n",
            "https://aka.ms/ailearningjourney\n",
            "https://github.com/Azure/ADX-in-a-Day\n",
            "https://github.com/Azure/azure-openai-workshop\n",
            "https://lnkd.in/eUUVTiNQ\n",
            "https://aka.ms/adx.blog\n",
            "https://lagimik.github.io//PartnerCrucible/DataAISolutionArea//PartnerCrucible/DataAISolutionArea/ContributorsGuide\n",
            "HTTP Error 404: Not Found\n",
            "https://learn.microsoft.com/en-us/rest/api/purview\n",
            "https://www.youtube.com/@MicrosoftPurview\n",
            "https://msuspartners.eventbuilder.com/AIMLPartnerPrep\n",
            "https://lnkd.in/dfCKwWDN\n",
            "https://techcommunity.microsoft.com/t5/security-compliance-and-identity/the-microsoft-purview-data-loss-prevention-ninja-training-is/ba-p/3659015\n",
            "https://partner.microsoft.com/en-us/training/assets/collection/azure-data-and-ai-partner-sales-acceleration-program-psap#\n",
            "https://msuspartners.eventbuilder.com/EnablePurview\n",
            "https://lnkd.in/e5cRUCs7\n",
            "https://lnkd.in/eU4KMdP2\n",
            "https://docs.microsoft.com/en-us/azure/architecture/example-scenario/dataplate2e/data-platform-end-to-end?tabs=portal\n",
            "https://microsoft.github.io/PartnerResources/azure/data-analytics-ai/openai\n"
          ]
        }
      ],
      "source": [
        "import requests\n",
        "import re\n",
        "import urllib.request\n",
        "from bs4 import BeautifulSoup\n",
        "from collections import deque\n",
        "from html.parser import HTMLParser\n",
        "from urllib.parse import urlparse\n",
        "import os\n",
        "import tiktoken\n",
        "\n",
        "# Regex pattern to match a URL\n",
        "HTTP_URL_PATTERN = r'^http[s]*://.+'\n",
        "\n",
        "# Define root domain to crawl\n",
        "domain = \"lagimik.github.io\"\n",
        "full_url = \"https://lagimik.github.io\"\n",
        "path = \"/PartnerCrucible/DataAISolutionArea\"\n",
        "\n",
        "# Create a class to parse the HTML and get the hyperlinks\n",
        "class HyperlinkParser(HTMLParser):\n",
        "    def __init__(self):\n",
        "        super().__init__()\n",
        "        # Create a list to store the hyperlinks\n",
        "        self.hyperlinks = []\n",
        "\n",
        "    # Override the HTMLParser's handle_starttag method to get the hyperlinks\n",
        "    def handle_starttag(self, tag, attrs):\n",
        "        attrs = dict(attrs)\n",
        "\n",
        "        # If the tag is an anchor tag and it has an href attribute, add the href attribute to the list of hyperlinks\n",
        "        if tag == \"a\" and \"href\" in attrs:\n",
        "            self.hyperlinks.append(attrs[\"href\"])\n",
        "\n",
        "# Function to get the hyperlinks from a URL\n",
        "def get_hyperlinks(url):\n",
        "    \n",
        "    # Try to open the URL and read the HTML\n",
        "    try:\n",
        "        # Open the URL and read the HTML\n",
        "        with urllib.request.urlopen(url) as response:\n",
        "\n",
        "            # If the response is not HTML, return an empty list\n",
        "            if not response.info().get('Content-Type').startswith(\"text/html\"):\n",
        "                return []\n",
        "            \n",
        "            # Decode the HTML\n",
        "            html = response.read().decode('utf-8')\n",
        "    except Exception as e:\n",
        "        print(e)\n",
        "        return []\n",
        "\n",
        "    # Create the HTML Parser and then Parse the HTML to get hyperlinks\n",
        "    parser = HyperlinkParser()\n",
        "    parser.feed(html)\n",
        "\n",
        "    return parser.hyperlinks\n",
        "\n",
        "# Function to get the hyperlinks from a URL \n",
        "# need some way to control the recursion\n",
        "def get_domain_hyperlinks(referer, url, path):\n",
        "    clean_links = []\n",
        "\n",
        "    if referer == domain:\n",
        "        for link in set(get_hyperlinks(url)):\n",
        "            clean_link = None\n",
        "\n",
        "            # If the link is a URL\n",
        "            if re.search(HTTP_URL_PATTERN, link):\n",
        "                clean_link = link\n",
        "\n",
        "            # If the link is not a URL, check if it is a relative link\n",
        "            else:\n",
        "                if link.startswith(\"/\"):\n",
        "                    link = url + link[1:]\n",
        "                elif link.startswith(\"./\"):\n",
        "                    link = url + link[2:]\n",
        "                elif link.startswith(\"#\") or link.startswith(\"mailto:\"):\n",
        "                    continue\n",
        "                else:\n",
        "                    clean_link = url + \"/\" + path + \"/\" + link\n",
        "\n",
        "            if clean_link is not None:\n",
        "                if clean_link.endswith(\"/\"):\n",
        "                    clean_link = clean_link[:-1]\n",
        "                clean_links.append(clean_link)\n",
        "\n",
        "    # Return the list of hyperlinks that are within the same domain\n",
        "    return list(set(clean_links))\n",
        "\n",
        "# implementation to crawl to a depth of 2 from the root to get the links from the crucible and whatever the content at teh other end is\n",
        "def get_child_hyperlinks(url):\n",
        "    clean_links = []\n",
        "    local_domain = urlparse(url).netloc\n",
        "    \n",
        "\n",
        "    for link in set(get_hyperlinks(url)):\n",
        "        clean_link = None\n",
        "\n",
        "        # If the link is a URL\n",
        "        if re.search(HTTP_URL_PATTERN, link):\n",
        "            clean_link = link\n",
        "\n",
        "        # If the link is not a URL, check if it is a relative link\n",
        "        else:\n",
        "            if link.startswith(\"/\"):\n",
        "                link = url + link[1:]\n",
        "            elif link.startswith(\"./\"):\n",
        "                link = url + link[2:]\n",
        "            elif link.startswith(\"#\") or link.startswith(\"mailto:\"):\n",
        "                continue\n",
        "            else:\n",
        "                clean_link = url + \"/\" + path + \"/\" + link\n",
        "\n",
        "        if clean_link is not None:\n",
        "            if clean_link.endswith(\"/\"):\n",
        "                clean_link = clean_link[:-1]\n",
        "            clean_links.append(clean_link)\n",
        "\n",
        "    # Return the list of hyperlinks that are within the same domain\n",
        "    return list(set(clean_links))\n",
        "\n",
        "\n",
        "def crawl(url,path):\n",
        "    # Parse the URL and get the domain\n",
        "    local_domain = urlparse(url).netloc\n",
        "    #local_domain = \"lagimik.github.io/PartnerCrucible\"\n",
        "    file_path = local_domain\n",
        "    \n",
        "    # Create a queue to store the URLs to crawl\n",
        "    # 2d array queue specifying url and refering domain\n",
        "    queue = deque([[url + \"/\" + path, local_domain]])\n",
        "\n",
        "    # Create a set to store the URLs that have already been seen (no duplicates)\n",
        "    seen = set([url + \"/\" + path])\n",
        "\n",
        "    # Create a directory to store the text files\n",
        "    if not os.path.exists(\"text/\"):\n",
        "            os.mkdir(\"text/\")\n",
        "\n",
        "    if not os.path.exists(\"text/\"+ file_path+\"/\"):\n",
        "            os.mkdir(\"text/\" + file_path + \"/\")\n",
        "\n",
        "    # Create a directory to store the csv files\n",
        "    if not os.path.exists(\"processed\"):\n",
        "            os.mkdir(\"processed\")\n",
        "\n",
        "    # While the queue is not empty, continue crawling\n",
        "    while queue:\n",
        "\n",
        "        # Get the next URL from the queue\n",
        "        url, refering = queue.pop()\n",
        "        print(url) # for debugging and to see the progress\n",
        "\n",
        "        # Save text from the url to a <url>.txt file\n",
        "        with open('text/'+ file_path+'/'+url[8:].replace(\"/\", \"_\") + \".txt\", \"w\") as f:\n",
        "\n",
        "            # Get the text from the URL using BeautifulSoup\n",
        "            soup = BeautifulSoup(requests.get(url).text, \"html.parser\")\n",
        "\n",
        "            # Get the text but remove the tags\n",
        "            text = soup.get_text()\n",
        "\n",
        "            # If the crawler gets to a page that requires JavaScript, it will stop the crawl\n",
        "            if (\"You need to enable JavaScript to run this app.\" in text):\n",
        "                print(\"Unable to parse page \" + url + \" due to JavaScript being required\")\n",
        "            \n",
        "            # Otherwise, write the text to the file in the text directory\n",
        "            f.write(text)\n",
        "\n",
        "        #Get the hyperlinks from the URL and add them to the queue\n",
        "        for link in get_domain_hyperlinks(refering, url, path):\n",
        "            print(\"--\" + link)\n",
        "            if link not in seen:\n",
        "                queue.append([link, urlparse(link).netloc])\n",
        "                seen.add(link)\n",
        "\n",
        "\n",
        "        # Get the hyperlinks from the URL and add them to the queue\n",
        "        #for link in get_domain_hyperlinks(local_domain, url, path):\n",
        "        #    print(\"--\" + link)\n",
        "        #    for child_link in get_child_hyperlinks(link):\n",
        "        #        if child_link not in seen:\n",
        "        #            queue.append(child_link)\n",
        "        #            seen.add(child_link)\n",
        "\n",
        "crawl(full_url,path)"
      ]
    },
    {
      "cell_type": "code",
      "execution_count": 2,
      "metadata": {
        "gather": {
          "logged": 1679169231361
        }
      },
      "outputs": [],
      "source": [
        "def remove_newlines(serie):\n",
        "    serie = serie.str.replace('\\n', ' ')\n",
        "    serie = serie.str.replace('\\\\n', ' ')\n",
        "    serie = serie.str.replace('  ', ' ')\n",
        "    serie = serie.str.replace('  ', ' ')\n",
        "    return serie"
      ]
    },
    {
      "cell_type": "code",
      "execution_count": 3,
      "metadata": {
        "gather": {
          "logged": 1679169237019
        }
      },
      "outputs": [
        {
          "name": "stderr",
          "output_type": "stream",
          "text": [
            "/tmp/ipykernel_19771/2931785837.py:3: FutureWarning: The default value of regex will change from True to False in a future version.\n",
            "  serie = serie.str.replace('\\\\n', ' ')\n"
          ]
        },
        {
          "data": {
            "text/html": [
              "<div>\n",
              "<style scoped>\n",
              "    .dataframe tbody tr th:only-of-type {\n",
              "        vertical-align: middle;\n",
              "    }\n",
              "\n",
              "    .dataframe tbody tr th {\n",
              "        vertical-align: top;\n",
              "    }\n",
              "\n",
              "    .dataframe thead th {\n",
              "        text-align: right;\n",
              "    }\n",
              "</style>\n",
              "<table border=\"1\" class=\"dataframe\">\n",
              "  <thead>\n",
              "    <tr style=\"text-align: right;\">\n",
              "      <th></th>\n",
              "      <th>fname</th>\n",
              "      <th>text</th>\n",
              "    </tr>\n",
              "  </thead>\n",
              "  <tbody>\n",
              "    <tr>\n",
              "      <th>0</th>\n",
              "      <td>rosoft.com</td>\n",
              "      <td>rosoft.com.   AI Demos           Skip to main ...</td>\n",
              "    </tr>\n",
              "    <tr>\n",
              "      <th>1</th>\n",
              "      <td>blog</td>\n",
              "      <td>blog.  \\tAzure Data Explorer Blog - Microsoft ...</td>\n",
              "    </tr>\n",
              "    <tr>\n",
              "      <th>2</th>\n",
              "      <td>sof</td>\n",
              "      <td>sof.  Newest 'azure-data-explorer+or+kql+or+kq...</td>\n",
              "    </tr>\n",
              "    <tr>\n",
              "      <th>3</th>\n",
              "      <td>arningjourney</td>\n",
              "      <td>arningjourney.          Azure AI Learning Jour...</td>\n",
              "    </tr>\n",
              "    <tr>\n",
              "      <th>4</th>\n",
              "      <td>engineer learning path</td>\n",
              "      <td>engineer learning path.          DP-203 certi...</td>\n",
              "    </tr>\n",
              "  </tbody>\n",
              "</table>\n",
              "</div>"
            ],
            "text/plain": [
              "                     fname                                               text\n",
              "0               rosoft.com  rosoft.com.   AI Demos           Skip to main ...\n",
              "1                     blog  blog.  \\tAzure Data Explorer Blog - Microsoft ...\n",
              "2                      sof  sof.  Newest 'azure-data-explorer+or+kql+or+kq...\n",
              "3            arningjourney  arningjourney.          Azure AI Learning Jour...\n",
              "4   engineer learning path   engineer learning path.          DP-203 certi..."
            ]
          },
          "execution_count": 3,
          "metadata": {},
          "output_type": "execute_result"
        }
      ],
      "source": [
        "import pandas as pd\n",
        "\n",
        "# Create a list to store the text files\n",
        "texts=[]\n",
        "\n",
        "# Get all the text files in the text directory\n",
        "for file in os.listdir(\"text/\" + domain + \"/\"):\n",
        "\n",
        "    # Open the file and read the text\n",
        "    with open(\"text/\" + domain + \"/\" + file, \"r\") as f:\n",
        "        text = f.read()\n",
        "\n",
        "        # Omit the first 11 lines and the last 4 lines, then replace -, _, and #update with spaces.\n",
        "        texts.append((file[11:-4].replace('-',' ').replace('_', ' ').replace('#update',''), text))\n",
        "\n",
        "# Create a dataframe from the list of texts\n",
        "df = pd.DataFrame(texts, columns = ['fname', 'text'])\n",
        "\n",
        "# Set the text column to be the raw text with the newlines removed\n",
        "df['text'] = df.fname + \". \" + remove_newlines(df.text)\n",
        "df.to_csv('processed/scraped.csv')\n",
        "df.head()"
      ]
    },
    {
      "cell_type": "code",
      "execution_count": 4,
      "metadata": {
        "gather": {
          "logged": 1679169243587
        }
      },
      "outputs": [
        {
          "data": {
            "text/plain": [
              "<AxesSubplot: >"
            ]
          },
          "execution_count": 4,
          "metadata": {},
          "output_type": "execute_result"
        },
        {
          "data": {
            "image/png": "[encoded data removed]",
            "text/plain": [
              "<Figure size 640x480 with 1 Axes>"
            ]
          },
          "metadata": {},
          "output_type": "display_data"
        }
      ],
      "source": [
        "\n",
        "\n",
        "# Load the cl100k_base tokenizer which is designed to work with the ada-002 model\n",
        "tokenizer = tiktoken.get_encoding(\"cl100k_base\")\n",
        "\n",
        "df = pd.read_csv('processed/scraped.csv', index_col=0)\n",
        "df.columns = ['title', 'text']\n",
        "\n",
        "# Tokenize the text and save the number of tokens to a new column\n",
        "df['n_tokens'] = df.text.apply(lambda x: len(tokenizer.encode(x)))\n",
        "\n",
        "# Visualize the distribution of the number of tokens per row using a histogram\n",
        "df.n_tokens.hist()"
      ]
    },
    {
      "cell_type": "code",
      "execution_count": 5,
      "metadata": {
        "gather": {
          "logged": 1679169249697
        }
      },
      "outputs": [],
      "source": [
        "max_tokens = 500\n",
        "\n",
        "# Function to split the text into chunks of a maximum number of tokens\n",
        "def split_into_many(text, max_tokens = max_tokens):\n",
        "\n",
        "    # Split the text into sentences\n",
        "    sentences = text.split('. ')\n",
        "\n",
        "    # Get the number of tokens for each sentence\n",
        "    n_tokens = [len(tokenizer.encode(\" \" + sentence)) for sentence in sentences]\n",
        "    \n",
        "    chunks = []\n",
        "    tokens_so_far = 0\n",
        "    chunk = []\n",
        "\n",
        "    # Loop through the sentences and tokens joined together in a tuple\n",
        "    for sentence, token in zip(sentences, n_tokens):\n",
        "\n",
        "        # If the number of tokens so far plus the number of tokens in the current sentence is greater \n",
        "        # than the max number of tokens, then add the chunk to the list of chunks and reset\n",
        "        # the chunk and tokens so far\n",
        "        if tokens_so_far + token > max_tokens:\n",
        "            chunks.append(\". \".join(chunk) + \".\")\n",
        "            chunk = []\n",
        "            tokens_so_far = 0\n",
        "\n",
        "        # If the number of tokens in the current sentence is greater than the max number of \n",
        "        # tokens, go to the next sentence\n",
        "        if token > max_tokens:\n",
        "            continue\n",
        "\n",
        "        # Otherwise, add the sentence to the chunk and add the number of tokens to the total\n",
        "        chunk.append(sentence)\n",
        "        tokens_so_far += token + 1\n",
        "\n",
        "    return chunks\n",
        "    \n",
        "\n",
        "shortened = []\n",
        "\n",
        "# Loop through the dataframe\n",
        "for row in df.iterrows():\n",
        "\n",
        "    # If the text is None, go to the next row\n",
        "    if row[1]['text'] is None:\n",
        "        continue\n",
        "\n",
        "    # If the number of tokens is greater than the max number of tokens, split the text into chunks\n",
        "    if row[1]['n_tokens'] > max_tokens:\n",
        "        shortened += split_into_many(row[1]['text'])\n",
        "    \n",
        "    # Otherwise, add the text to the list of shortened texts\n",
        "    else:\n",
        "        shortened.append( row[1]['text'] )"
      ]
    },
    {
      "cell_type": "code",
      "execution_count": 6,
      "metadata": {
        "gather": {
          "logged": 1679169256757
        }
      },
      "outputs": [
        {
          "data": {
            "text/plain": [
              "<AxesSubplot: >"
            ]
          },
          "execution_count": 6,
          "metadata": {},
          "output_type": "execute_result"
        },
        {
          "data": {
            "image/png": "[encoded data removed]",
            "text/plain": [
              "<Figure size 640x480 with 1 Axes>"
            ]
          },
          "metadata": {},
          "output_type": "display_data"
        }
      ],
      "source": [
        "df = pd.DataFrame(shortened, columns = ['text'])\n",
        "df['n_tokens'] = df.text.apply(lambda x: len(tokenizer.encode(x)))\n",
        "df.n_tokens.hist()"
      ]
    },
    {
      "cell_type": "code",
      "execution_count": 15,
      "metadata": {
        "gather": {
          "logged": 1679171404437
        }
      },
      "outputs": [
        {
          "data": {
            "text/html": [
              "<div>\n",
              "<style scoped>\n",
              "    .dataframe tbody tr th:only-of-type {\n",
              "        vertical-align: middle;\n",
              "    }\n",
              "\n",
              "    .dataframe tbody tr th {\n",
              "        vertical-align: top;\n",
              "    }\n",
              "\n",
              "    .dataframe thead th {\n",
              "        text-align: right;\n",
              "    }\n",
              "</style>\n",
              "<table border=\"1\" class=\"dataframe\">\n",
              "  <thead>\n",
              "    <tr style=\"text-align: right;\">\n",
              "      <th></th>\n",
              "      <th>text</th>\n",
              "      <th>n_tokens</th>\n",
              "      <th>embeddings</th>\n",
              "    </tr>\n",
              "  </thead>\n",
              "  <tbody>\n",
              "    <tr>\n",
              "      <th>0</th>\n",
              "      <td>rosoft.com.   AI Demos           Skip to main ...</td>\n",
              "      <td>429</td>\n",
              "      <td>[0.0013598980149254203, -0.025529107078909874,...</td>\n",
              "    </tr>\n",
              "    <tr>\n",
              "      <th>1</th>\n",
              "      <td>blog.  \\tAzure Data Explorer Blog - Microsoft ...</td>\n",
              "      <td>441</td>\n",
              "      <td>[0.0017209274228662252, -0.012642164714634418,...</td>\n",
              "    </tr>\n",
              "    <tr>\n",
              "      <th>2</th>\n",
              "      <td>monitoring Power BI. relationships Prediction ...</td>\n",
              "      <td>470</td>\n",
              "      <td>[-0.000707933446392417, -0.013479757122695446,...</td>\n",
              "    </tr>\n",
              "    <tr>\n",
              "      <th>3</th>\n",
              "      <td>\\t\\t\\t           2,077  \\t\\t\\t\\t\\t\\t\\tGeneral ...</td>\n",
              "      <td>472</td>\n",
              "      <td>[0.00028307450702413917, -0.005938734859228134...</td>\n",
              "    </tr>\n",
              "    <tr>\n",
              "      <th>4</th>\n",
              "      <td>\\t\\t\\t           1,094  \\t\\t\\t\\t\\t\\t\\tCross hi...</td>\n",
              "      <td>489</td>\n",
              "      <td>[-0.012034917250275612, -0.019477564841508865,...</td>\n",
              "    </tr>\n",
              "  </tbody>\n",
              "</table>\n",
              "</div>"
            ],
            "text/plain": [
              "                                                text  n_tokens  \\\n",
              "0  rosoft.com.   AI Demos           Skip to main ...       429   \n",
              "1  blog.  \\tAzure Data Explorer Blog - Microsoft ...       441   \n",
              "2  monitoring Power BI. relationships Prediction ...       470   \n",
              "3  \\t\\t\\t           2,077  \\t\\t\\t\\t\\t\\t\\tGeneral ...       472   \n",
              "4  \\t\\t\\t           1,094  \\t\\t\\t\\t\\t\\t\\tCross hi...       489   \n",
              "\n",
              "                                          embeddings  \n",
              "0  [0.0013598980149254203, -0.025529107078909874,...  \n",
              "1  [0.0017209274228662252, -0.012642164714634418,...  \n",
              "2  [-0.000707933446392417, -0.013479757122695446,...  \n",
              "3  [0.00028307450702413917, -0.005938734859228134...  \n",
              "4  [-0.012034917250275612, -0.019477564841508865,...  "
            ]
          },
          "execution_count": 15,
          "metadata": {},
          "output_type": "execute_result"
        }
      ],
      "source": [
        "import openai\n",
        "from ratelimit import limits, sleep_and_retry\n",
        "\n",
        "# Set OpenAI API key\n",
        "openai.api_key = ''\n",
        "\n",
        "# Set rate limit parameters\n",
        "RATE_LIMIT = 50  # Maximum number of requests per minute\n",
        "RATE_PERIOD = 60  # Time period for rate limit in seconds\n",
        "\n",
        "# Define rate limit decorator\n",
        "@sleep_and_retry\n",
        "@limits(calls=RATE_LIMIT, period=RATE_PERIOD)\n",
        "def get_embedding(text):\n",
        "    # Call OpenAI Embedding API to generate embedding\n",
        "    embedding = openai.Embedding.create(input=text, engine='text-embedding-ada-002')['data'][0]['embedding']\n",
        "    return embedding\n",
        "\n",
        "# Generate embeddings with rate limiting\n",
        "df['embeddings'] = df.text.apply(lambda x: get_embedding(x))\n",
        "df.to_csv('processed/embeddings.csv')\n",
        "df.head()"
      ]
    },
    {
      "cell_type": "code",
      "execution_count": 17,
      "metadata": {
        "gather": {
          "logged": 1679172026459
        }
      },
      "outputs": [],
      "source": [
        "from openai.embeddings_utils import distances_from_embeddings\n",
        "\n",
        "# this looked looked like duplication of previous cell\n",
        "#df['embeddings'] = df.text.apply(lambda x: openai.Embedding.create(input=x, engine='text-embedding-ada-002')['data'][0]['embedding'])\n",
        "#df.to_csv('processed/embeddings.csv')\n",
        "#df.head()\n"
      ]
    },
    {
      "cell_type": "code",
      "execution_count": 18,
      "metadata": {
        "gather": {
          "logged": 1679172029582
        }
      },
      "outputs": [
        {
          "data": {
            "text/html": [
              "<div>\n",
              "<style scoped>\n",
              "    .dataframe tbody tr th:only-of-type {\n",
              "        vertical-align: middle;\n",
              "    }\n",
              "\n",
              "    .dataframe tbody tr th {\n",
              "        vertical-align: top;\n",
              "    }\n",
              "\n",
              "    .dataframe thead th {\n",
              "        text-align: right;\n",
              "    }\n",
              "</style>\n",
              "<table border=\"1\" class=\"dataframe\">\n",
              "  <thead>\n",
              "    <tr style=\"text-align: right;\">\n",
              "      <th></th>\n",
              "      <th>text</th>\n",
              "      <th>n_tokens</th>\n",
              "      <th>embeddings</th>\n",
              "    </tr>\n",
              "  </thead>\n",
              "  <tbody>\n",
              "    <tr>\n",
              "      <th>0</th>\n",
              "      <td>rosoft.com.   AI Demos           Skip to main ...</td>\n",
              "      <td>429</td>\n",
              "      <td>[0.0013598980149254203, -0.025529107078909874,...</td>\n",
              "    </tr>\n",
              "    <tr>\n",
              "      <th>1</th>\n",
              "      <td>blog.  \\tAzure Data Explorer Blog - Microsoft ...</td>\n",
              "      <td>441</td>\n",
              "      <td>[0.0017209274228662252, -0.012642164714634418,...</td>\n",
              "    </tr>\n",
              "    <tr>\n",
              "      <th>2</th>\n",
              "      <td>monitoring Power BI. relationships Prediction ...</td>\n",
              "      <td>470</td>\n",
              "      <td>[-0.000707933446392417, -0.013479757122695446,...</td>\n",
              "    </tr>\n",
              "    <tr>\n",
              "      <th>3</th>\n",
              "      <td>\\t\\t\\t           2,077  \\t\\t\\t\\t\\t\\t\\tGeneral ...</td>\n",
              "      <td>472</td>\n",
              "      <td>[0.00028307450702413917, -0.005938734859228134...</td>\n",
              "    </tr>\n",
              "    <tr>\n",
              "      <th>4</th>\n",
              "      <td>\\t\\t\\t           1,094  \\t\\t\\t\\t\\t\\t\\tCross hi...</td>\n",
              "      <td>489</td>\n",
              "      <td>[-0.012034917250275612, -0.019477564841508865,...</td>\n",
              "    </tr>\n",
              "  </tbody>\n",
              "</table>\n",
              "</div>"
            ],
            "text/plain": [
              "                                                text  n_tokens  \\\n",
              "0  rosoft.com.   AI Demos           Skip to main ...       429   \n",
              "1  blog.  \\tAzure Data Explorer Blog - Microsoft ...       441   \n",
              "2  monitoring Power BI. relationships Prediction ...       470   \n",
              "3  \\t\\t\\t           2,077  \\t\\t\\t\\t\\t\\t\\tGeneral ...       472   \n",
              "4  \\t\\t\\t           1,094  \\t\\t\\t\\t\\t\\t\\tCross hi...       489   \n",
              "\n",
              "                                          embeddings  \n",
              "0  [0.0013598980149254203, -0.025529107078909874,...  \n",
              "1  [0.0017209274228662252, -0.012642164714634418,...  \n",
              "2  [-0.000707933446392417, -0.013479757122695446,...  \n",
              "3  [0.00028307450702413917, -0.005938734859228134...  \n",
              "4  [-0.012034917250275612, -0.019477564841508865,...  "
            ]
          },
          "execution_count": 18,
          "metadata": {},
          "output_type": "execute_result"
        }
      ],
      "source": [
        "import pandas as pd\n",
        "import numpy as np\n",
        "from openai.embeddings_utils import distances_from_embeddings, cosine_similarity\n",
        "\n",
        "df=pd.read_csv('processed/embeddings.csv', index_col=0)\n",
        "df['embeddings'] = df['embeddings'].apply(eval).apply(np.array)\n",
        "\n",
        "df.head()"
      ]
    },
    {
      "cell_type": "code",
      "execution_count": 20,
      "metadata": {
        "gather": {
          "logged": 1679172047891
        }
      },
      "outputs": [],
      "source": [
        "def create_context(\n",
        "    question, df, max_len=1800, size=\"ada\"\n",
        "):\n",
        "    \"\"\"\n",
        "    Create a context for a question by finding the most similar context from the dataframe\n",
        "    \"\"\"\n",
        "\n",
        "    # Get the embeddings for the question\n",
        "    q_embeddings = openai.Embedding.create(input=question, engine='text-embedding-ada-002')['data'][0]['embedding']\n",
        "\n",
        "    # Get the distances from the embeddings\n",
        "    df['distances'] = distances_from_embeddings(q_embeddings, df['embeddings'].values, distance_metric='cosine')\n",
        "\n",
        "\n",
        "    returns = []\n",
        "    cur_len = 0\n",
        "\n",
        "    # Sort by distance and add the text to the context until the context is too long\n",
        "    for i, row in df.sort_values('distances', ascending=True).iterrows():\n",
        "        \n",
        "        # Add the length of the text to the current length\n",
        "        cur_len += row['n_tokens'] + 4\n",
        "        \n",
        "        # If the context is too long, break\n",
        "        if cur_len > max_len:\n",
        "            break\n",
        "        \n",
        "        # Else add it to the text that is being returned\n",
        "        returns.append(row[\"text\"])\n",
        "\n",
        "    # Return the context\n",
        "    return \"\\n\\n###\\n\\n\".join(returns)\n",
        "\n",
        "def answer_question(\n",
        "    df,\n",
        "    model=\"text-davinci-003\",\n",
        "    question=\"Am I allowed to publish model outputs to Twitter, without a human review?\",\n",
        "    max_len=1800,\n",
        "    size=\"ada\",\n",
        "    debug=False,\n",
        "    max_tokens=150,\n",
        "    stop_sequence=None\n",
        "):\n",
        "    \"\"\"\n",
        "    Answer a question based on the most similar context from the dataframe texts\n",
        "    \"\"\"\n",
        "    context = create_context(\n",
        "        question,\n",
        "        df,\n",
        "        max_len=max_len,\n",
        "        size=size,\n",
        "    )\n",
        "    # If debug, print the raw model response\n",
        "    if debug:\n",
        "        print(\"Context:\\n\" + context)\n",
        "        print(\"\\n\\n\")\n",
        "\n",
        "    try:\n",
        "        # Create a completions using the question and context\n",
        "        response = openai.Completion.create(\n",
        "            prompt=f\"Answer the question based on the context below, and if the question can't be answered based on the context, say \\\"I don't know\\\"\\n\\nContext: {context}\\n\\n---\\n\\nQuestion: {question}\\nAnswer:\",\n",
        "            temperature=0,\n",
        "            max_tokens=max_tokens,\n",
        "            top_p=1,\n",
        "            frequency_penalty=0,\n",
        "            presence_penalty=0,\n",
        "            stop=stop_sequence,\n",
        "            model=model,\n",
        "        )\n",
        "        return response[\"choices\"][0][\"text\"].strip()\n",
        "    except Exception as e:\n",
        "        print(e)\n",
        "        return \"\""
      ]
    },
    {
      "cell_type": "code",
      "execution_count": 33,
      "metadata": {
        "gather": {
          "logged": 1679172672044
        }
      },
      "outputs": [
        {
          "data": {
            "text/plain": [
              "'soft.com en us training modules explore azure openai, soft.com en us resources mysql developer learning journey ?OCID=mysql dev pdf MySQL page, and Azure Data Explorer 101 series Usage flow & Docs.'"
            ]
          },
          "execution_count": 33,
          "metadata": {},
          "output_type": "execute_result"
        }
      ],
      "source": [
        "answer_question(df, question=\"what are good sources of learning?\", debug=False)"
      ]
    },
    {
      "cell_type": "code",
      "execution_count": 36,
      "metadata": {
        "gather": {
          "logged": 1679172754027
        }
      },
      "outputs": [
        {
          "data": {
            "text/plain": [
              "'For near real-time telemetry and time-series analytics scenarios, use Data Explorer pools to easily ingest IoT events directly from Event Hubs or IoT Hubs. With Data Explorer pools, you can use Kusto queries (KQL) to perform time-series analysis, geospatial clustering, and machine learning enrichment.'"
            ]
          },
          "execution_count": 36,
          "metadata": {},
          "output_type": "execute_result"
        }
      ],
      "source": [
        "answer_question(df, question=\"how to I manage timeseries data?\")"
      ]
    }
  ],
  "metadata": {
    "kernel_info": {
      "name": "python38-azureml"
    },
    "kernelspec": {
      "display_name": "Python 3.8 - AzureML",
      "language": "python",
      "name": "python38-azureml"
    },
    "language_info": {
      "codemirror_mode": {
        "name": "ipython",
        "version": 3
      },
      "file_extension": ".py",
      "mimetype": "text/x-python",
      "name": "python",
      "nbconvert_exporter": "python",
      "pygments_lexer": "ipython3",
      "version": "3.8.10"
    },
    "microsoft": {
      "host": {
        "AzureML": {
          "notebookHasBeenCompleted": true
        }
      },
      "ms_spell_check": {
        "ms_spell_check_language": "en"
      }
    },
    "nteract": {
      "version": "nteract-front-end@1.0.0"
    },
    "orig_nbformat": 4,
    "vscode": {
      "interpreter": {
        "hash": "05f34a34d73b71652304030c1097be3a5720ea2447153dd6542d145a26b73181"
      }
    }
  },
  "nbformat": 4,
  "nbformat_minor": 2
}
