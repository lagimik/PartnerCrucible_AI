{
  "cells": [
    {
      "cell_type": "code",
      "execution_count": 5,
      "metadata": {
        "gather": {
          "logged": 1679490565900
        }
      },
      "outputs": [
        {
          "name": "stdout",
          "output_type": "stream",
          "text": [
            "https://lagimik.github.io//PartnerCrucible/\n",
            "https://lagimik.github.io//PartnerCrucible//SandboxEnvironments\n",
            "https://pages.github.com\n",
            "https://github.com/lagimik/PartnerCrucible\n",
            "https://azure.microsoft.com/en-ca/pricing/member-offers/credit-for-visual-studio-subscribers\n",
            "https://lagimik.github.io//PartnerCrucible//PartnerCrucible\n",
            "HTTP Error 404: Not Found\n",
            "https://lagimik.github.io//PartnerCrucible//ContributorsGuide\n",
            "https://www.youtube.com/watch?v=pTFN_KLW6a4\n",
            "https://docs.microsoft.com/en-us/contribute/#quick-edits-to-documentation\n",
            "https://docs.microsoft.com/en-us/contribute/how-to-write-workflows-major\n",
            "https://docs.microsoft.com/en-us/contribute\n",
            "https://docs.microsoft.com/en-us/contribute/get-started-setup-github\n",
            "https://github.com/lagimik\n",
            "https://azure.microsoft.com/en-us/pricing/dev-test/#overview\n",
            "https://cdx.transform.microsoft.com\n",
            "https://lagimik.github.io//PartnerCrucible//ISV\n",
            "https://learn.microsoft.com/en-ca/partner-center/csp-commercial-marketplace-margins\n",
            "https://www.microsoft.com/content/dam/microsoft/final/en-us/microsoft-brand/documents/WhyMicrosoftCloudForISVs.pdf\n",
            "PDF Read Error. Skipping\n",
            "https://forms.office.com/Pages/ResponsePage.aspx?id=v4j5cvGGr0GRqy180BHbR_Ag213JJ2NMve6PXPYZ8NBUNUxZNkJGTDYzTVhUVlNJMEZGN0NFQlg1Wi4u&wdLOR=c5F8F55B1-AC68-4DEB-A6AC-7653BD5934A9\n",
            "https://www.microsoft.com/en-us/isv\n",
            "https://clouddamcdnprodep.azureedge.net/gdc/gdcj0LGCv/original?ocid=mkto_eml_em553276a1la1?ocid=eml_pg139698_gdc_comm_az&mkt_tok=MTU3LUdRRS0zODIAAAGJDpSZEHv23IXPKuY5L1YkPcSUD8F1IkTrINVkdovQ1XTJDG8kWjZt1lVqmRvPdC7I0-XjqnoLa8KnVUpZY_1_rUHFkegK-pS6lOfHcKWiD8iaO0fuXVo_\n"
          ]
        },
        {
          "ename": "OSError",
          "evalue": "[Errno 36] File name too long: 'text/lagimik.github.io/clouddamcdnprodep.azureedge.net_gdc_gdcj0LGCv_original?ocid=mkto_eml_em553276a1la1?ocid=eml_pg139698_gdc_comm_az&mkt_tok=MTU3LUdRRS0zODIAAAGJDpSZEHv23IXPKuY5L1YkPcSUD8F1IkTrINVkdovQ1XTJDG8kWjZt1lVqmRvPdC7I0-XjqnoLa8KnVUpZY_1_rUHFkegK-pS6lOfHcKWiD8iaO0fuXVo_.txt'",
          "output_type": "error",
          "traceback": [
            "\u001b[0;31m---------------------------------------------------------------------------\u001b[0m",
            "\u001b[0;31mOSError\u001b[0m                                   Traceback (most recent call last)",
            "Cell \u001b[0;32mIn[5], line 183\u001b[0m\n\u001b[1;32m    180\u001b[0m                     queue\u001b[39m.\u001b[39mappend([link, urlparse(link)\u001b[39m.\u001b[39mnetloc])\n\u001b[1;32m    181\u001b[0m                 seen\u001b[39m.\u001b[39madd(link)\n\u001b[0;32m--> 183\u001b[0m crawl(full_url,path)\n",
            "Cell \u001b[0;32mIn[5], line 134\u001b[0m, in \u001b[0;36mcrawl\u001b[0;34m(url, path)\u001b[0m\n\u001b[1;32m    130\u001b[0m \u001b[39mprint\u001b[39m(url) \u001b[39m# for debugging and to see the progress\u001b[39;00m\n\u001b[1;32m    133\u001b[0m \u001b[39m# Save text from the url to a <url>.txt file\u001b[39;00m\n\u001b[0;32m--> 134\u001b[0m \u001b[39mwith\u001b[39;00m \u001b[39mopen\u001b[39;49m(\u001b[39m'\u001b[39;49m\u001b[39mtext/\u001b[39;49m\u001b[39m'\u001b[39;49m\u001b[39m+\u001b[39;49m file_path\u001b[39m+\u001b[39;49m\u001b[39m'\u001b[39;49m\u001b[39m/\u001b[39;49m\u001b[39m'\u001b[39;49m\u001b[39m+\u001b[39;49murl[\u001b[39m8\u001b[39;49m:]\u001b[39m.\u001b[39;49mreplace(\u001b[39m\"\u001b[39;49m\u001b[39m/\u001b[39;49m\u001b[39m\"\u001b[39;49m, \u001b[39m\"\u001b[39;49m\u001b[39m_\u001b[39;49m\u001b[39m\"\u001b[39;49m) \u001b[39m+\u001b[39;49m \u001b[39m\"\u001b[39;49m\u001b[39m.txt\u001b[39;49m\u001b[39m\"\u001b[39;49m, \u001b[39m\"\u001b[39;49m\u001b[39mw\u001b[39;49m\u001b[39m\"\u001b[39;49m) \u001b[39mas\u001b[39;00m f:\n\u001b[1;32m    136\u001b[0m     \u001b[39mtry\u001b[39;00m:\n\u001b[1;32m    137\u001b[0m         \u001b[39m# Get the text from the URL using BeautifulSoup\u001b[39;00m\n\u001b[1;32m    138\u001b[0m         soup \u001b[39m=\u001b[39m BeautifulSoup(requests\u001b[39m.\u001b[39mget(url)\u001b[39m.\u001b[39mtext, \u001b[39m\"\u001b[39m\u001b[39mhtml.parser\u001b[39m\u001b[39m\"\u001b[39m)\n",
            "File \u001b[0;32m/anaconda/envs/azureml_py38/lib/python3.8/site-packages/IPython/core/interactiveshell.py:282\u001b[0m, in \u001b[0;36m_modified_open\u001b[0;34m(file, *args, **kwargs)\u001b[0m\n\u001b[1;32m    275\u001b[0m \u001b[39mif\u001b[39;00m file \u001b[39min\u001b[39;00m {\u001b[39m0\u001b[39m, \u001b[39m1\u001b[39m, \u001b[39m2\u001b[39m}:\n\u001b[1;32m    276\u001b[0m     \u001b[39mraise\u001b[39;00m \u001b[39mValueError\u001b[39;00m(\n\u001b[1;32m    277\u001b[0m         \u001b[39mf\u001b[39m\u001b[39m\"\u001b[39m\u001b[39mIPython won\u001b[39m\u001b[39m'\u001b[39m\u001b[39mt let you open fd=\u001b[39m\u001b[39m{\u001b[39;00mfile\u001b[39m}\u001b[39;00m\u001b[39m by default \u001b[39m\u001b[39m\"\u001b[39m\n\u001b[1;32m    278\u001b[0m         \u001b[39m\"\u001b[39m\u001b[39mas it is likely to crash IPython. If you know what you are doing, \u001b[39m\u001b[39m\"\u001b[39m\n\u001b[1;32m    279\u001b[0m         \u001b[39m\"\u001b[39m\u001b[39myou can use builtins\u001b[39m\u001b[39m'\u001b[39m\u001b[39m open.\u001b[39m\u001b[39m\"\u001b[39m\n\u001b[1;32m    280\u001b[0m     )\n\u001b[0;32m--> 282\u001b[0m \u001b[39mreturn\u001b[39;00m io_open(file, \u001b[39m*\u001b[39;49margs, \u001b[39m*\u001b[39;49m\u001b[39m*\u001b[39;49mkwargs)\n",
            "\u001b[0;31mOSError\u001b[0m: [Errno 36] File name too long: 'text/lagimik.github.io/clouddamcdnprodep.azureedge.net_gdc_gdcj0LGCv_original?ocid=mkto_eml_em553276a1la1?ocid=eml_pg139698_gdc_comm_az&mkt_tok=MTU3LUdRRS0zODIAAAGJDpSZEHv23IXPKuY5L1YkPcSUD8F1IkTrINVkdovQ1XTJDG8kWjZt1lVqmRvPdC7I0-XjqnoLa8KnVUpZY_1_rUHFkegK-pS6lOfHcKWiD8iaO0fuXVo_.txt'"
          ]
        }
      ],
      "source": [
        "import requests\n",
        "import re\n",
        "import urllib.request\n",
        "from bs4 import BeautifulSoup\n",
        "from collections import deque\n",
        "from html.parser import HTMLParser\n",
        "from urllib.parse import urlparse\n",
        "import os\n",
        "import tiktoken\n",
        "from PyPDF2 import PdfReader\n",
        "\n",
        "# Regex pattern to match a URL\n",
        "HTTP_URL_PATTERN = r'^http[s]*://.+'\n",
        "\n",
        "# Define root domain to crawl\n",
        "domain = \"lagimik.github.io\"\n",
        "full_url = \"https://lagimik.github.io\"\n",
        "path = \"/PartnerCrucible/\"\n",
        "\n",
        "# Create a class to parse the HTML and get the hyperlinks\n",
        "class HyperlinkParser(HTMLParser):\n",
        "    def __init__(self):\n",
        "        super().__init__()\n",
        "        # Create a list to store the hyperlinks\n",
        "        self.hyperlinks = []\n",
        "\n",
        "    # Override the HTMLParser's handle_starttag method to get the hyperlinks\n",
        "    def handle_starttag(self, tag, attrs):\n",
        "        attrs = dict(attrs)\n",
        "\n",
        "        # If the tag is an anchor tag and it has an href attribute, add the href attribute to the list of hyperlinks\n",
        "        if tag == \"a\" and \"href\" in attrs:\n",
        "            self.hyperlinks.append(attrs[\"href\"])\n",
        "\n",
        "# Function to get the hyperlinks from a URL\n",
        "def get_hyperlinks(url):\n",
        "    \n",
        "    # Try to open the URL and read the HTML\n",
        "    try:\n",
        "        # Open the URL and read the HTML\n",
        "        with urllib.request.urlopen(url) as response:\n",
        "\n",
        "            # If the response is not HTML, return an empty list\n",
        "            if not response.info().get('Content-Type').startswith(\"text/html\"):\n",
        "                return []\n",
        "            \n",
        "            # Decode the HTML\n",
        "            html = response.read().decode('utf-8')\n",
        "    except Exception as e:\n",
        "        print(e)\n",
        "        return []\n",
        "\n",
        "    # Create the HTML Parser and then Parse the HTML to get hyperlinks\n",
        "    parser = HyperlinkParser()\n",
        "    parser.feed(html)\n",
        "\n",
        "    return parser.hyperlinks\n",
        "\n",
        "# Function to get the hyperlinks from a URL \n",
        "# need some way to control the recursion\n",
        "def get_domain_hyperlinks(referer, url, path):\n",
        "    clean_links = []\n",
        "\n",
        "    if referer == domain:\n",
        "        for link in set(get_hyperlinks(url)):\n",
        "            clean_link = None\n",
        "\n",
        "            # If the link is a URL\n",
        "            if re.search(HTTP_URL_PATTERN, link):\n",
        "                clean_link = link\n",
        "\n",
        "            # If the link is not a URL, check if it is a relative link\n",
        "            else:\n",
        "                if link.startswith(\"/\"):\n",
        "                    clean_link = full_url + \"/\" + path + \"/\" + link[1:]\n",
        "                elif link.startswith(\"./\"):\n",
        "                    clean_link = full_url + \"/\" + path + \"/\" + link[2:]\n",
        "                elif link.startswith(\"#\") or link.startswith(\"mailto:\"):\n",
        "                    continue\n",
        "                else:\n",
        "                    clean_link = full_url + \"/\" + path + \"/\" + link\n",
        "                    \n",
        "\n",
        "            if clean_link is not None:\n",
        "                if clean_link.endswith(\"/\"):\n",
        "                    clean_link = clean_link[:-1]\n",
        "                clean_links.append(clean_link)\n",
        "\n",
        "    # Return the list of hyperlinks that are within the same domain\n",
        "    return list(set(clean_links))\n",
        "\n",
        "# implementation to crawl to a depth of 2 from the root to get the links from the crucible and whatever the content at teh other end is\n",
        "\n",
        "\n",
        "\n",
        "def crawl(url,path):\n",
        "    # Parse the URL and get the domain\n",
        "    local_domain = urlparse(url).netloc\n",
        "    #local_domain = \"lagimik.github.io/PartnerCrucible\"\n",
        "    file_path = local_domain\n",
        "    \n",
        "    # Create a queue to store the URLs to crawl\n",
        "    # 2d array queue specifying url and refering domain\n",
        "    queue = deque([[url + \"/\" + path, local_domain]])\n",
        "\n",
        "    # Create a set to store the URLs that have already been seen (no duplicates)\n",
        "    seen = set([url + \"/\" + path])\n",
        "    # exclusions\n",
        "    seen.add(\"https://m12.vc\")\n",
        "\n",
        "    # Create a directory to store the text files\n",
        "    if not os.path.exists(\"text/\"):\n",
        "            os.mkdir(\"text/\")\n",
        "\n",
        "    if not os.path.exists(\"text/\"+ file_path+\"/\"):\n",
        "            os.mkdir(\"text/\" + file_path + \"/\")\n",
        "\n",
        "    # Create a directory to store the csv files\n",
        "    if not os.path.exists(\"processed\"):\n",
        "            os.mkdir(\"processed\")\n",
        "\n",
        "\n",
        "    requests.get(url, headers={'User-Agent': 'Mozilla/5.0 (Windows NT 6.1; Win64; x64)'})\n",
        "        \n",
        "    # While the queue is not empty, continue crawling\n",
        "    while queue:\n",
        "\n",
        "        # Get the next URL from the queue\n",
        "        url, refering = queue.pop()\n",
        "        print(url) # for debugging and to see the progress\n",
        "\n",
        "\n",
        "        # Save text from the url to a <url>.txt file\n",
        "        with open('text/'+ file_path+'/'+url[8:32].replace(\"/\", \"_\") + \".txt\", \"w\") as f:\n",
        "\n",
        "            try:\n",
        "                # Get the text from the URL using BeautifulSoup\n",
        "                soup = BeautifulSoup(requests.get(url).text, \"html.parser\")\n",
        "            \n",
        "            except requests.exceptions.RequestException as e:\n",
        "                print(\"Request Error:\" + e.strerror)\n",
        "                continue\n",
        "\n",
        "            if (url.endswith('.pdf')):\n",
        "                # Get response object for link\n",
        "                \n",
        "                response = requests.get(url)\n",
        "                response.encoding = response.apparent_encoding\n",
        "                \n",
        "                # Write content in pdf file\n",
        "                pdf = open(\"downloadpdf\"+\".pdf\", 'wb')\n",
        "                pdf.write(response.content)\n",
        "                pdf.close()\n",
        "\n",
        "                try:\n",
        "                    reader = PdfReader(\"downloadpdf\"+\".pdf\", \"rb\")\n",
        "                    pages = reader.pages\n",
        "                    for page in range(pages-1):\n",
        "                        text = page.extract_text()\n",
        "                        f.write(text)\n",
        "                except:\n",
        "                    print(\"PDF Read Error. Skipping\")\n",
        "                    continue    \n",
        "\n",
        "            else:\n",
        "                # Get the text but remove the tags\n",
        "                text = soup.get_text()\n",
        "\n",
        "                # If the crawler gets to a page that requires JavaScript, it will stop the crawl\n",
        "                if (\"You need to enable JavaScript to run this app.\" in text):\n",
        "                    print(\"Unable to parse page \" + url + \" due to JavaScript being required\")\n",
        "                \n",
        "                # Otherwise, write the text to the file in the text directory\n",
        "                f.write(text)\n",
        "\n",
        "        #Get the hyperlinks from the URL and add them to the queue\n",
        "        for link in get_domain_hyperlinks(refering, url, path):\n",
        "            if link not in seen :\n",
        "                if link != \"https://m12.vc​\":\n",
        "                    queue.append([link, urlparse(link).netloc])\n",
        "                seen.add(link)\n",
        "\n",
        "crawl(full_url,path)"
      ]
    },
    {
      "cell_type": "code",
      "execution_count": null,
      "metadata": {
        "gather": {
          "logged": 1679490566267
        }
      },
      "outputs": [],
      "source": [
        "def remove_newlines(serie):\n",
        "    serie = serie.str.replace('\\t', ' ')\n",
        "    serie = serie.str.replace('\\n', ' ')\n",
        "    serie = serie.str.replace('\\\\n', ' ')\n",
        "    serie = serie.str.replace('  ', ' ')\n",
        "    serie = serie.str.replace('  ', ' ')\n",
        "    return serie"
      ]
    },
    {
      "cell_type": "code",
      "execution_count": null,
      "metadata": {
        "gather": {
          "logged": 1679490566289
        }
      },
      "outputs": [],
      "source": [
        "import pandas as pd\n",
        "\n",
        "# Create a list to store the text files\n",
        "texts=[]\n",
        "\n",
        "# Get all the text files in the text directory\n",
        "for file in os.listdir(\"text/\" + domain + \"/\"):\n",
        "\n",
        "    # Open the file and read the text\n",
        "    with open(\"text/\" + domain + \"/\" + file, \"r\") as f:\n",
        "        text = f.read()\n",
        "\n",
        "        # Omit the first 11 lines and the last 4 lines, then replace -, _, and #update with spaces.\n",
        "        texts.append((file[11:-4].replace('-',' ').replace('_', ' ').replace('#update',''), text))\n",
        "\n",
        "# Create a dataframe from the list of texts\n",
        "df = pd.DataFrame(texts, columns = ['fname', 'text'])\n",
        "\n",
        "# Set the text column to be the raw text with the newlines removed\n",
        "df['text'] = df.fname + \". \" + remove_newlines(df.text)\n",
        "df.to_csv('processed/scraped.csv')\n",
        "df.head()"
      ]
    },
    {
      "cell_type": "code",
      "execution_count": null,
      "metadata": {
        "gather": {
          "logged": 1679490566308
        }
      },
      "outputs": [],
      "source": [
        "\n",
        "\n",
        "# Load the cl100k_base tokenizer which is designed to work with the ada-002 model\n",
        "tokenizer = tiktoken.get_encoding(\"cl100k_base\")\n",
        "\n",
        "df = pd.read_csv('processed/scraped.csv', index_col=0)\n",
        "df.columns = ['title', 'text']\n",
        "\n",
        "# Tokenize the text and save the number of tokens to a new column\n",
        "df['n_tokens'] = df.text.apply(lambda x: len(tokenizer.encode(x)))\n",
        "\n",
        "# Visualize the distribution of the number of tokens per row using a histogram\n",
        "df.n_tokens.hist()"
      ]
    },
    {
      "cell_type": "code",
      "execution_count": null,
      "metadata": {
        "gather": {
          "logged": 1679490566322
        }
      },
      "outputs": [],
      "source": [
        "max_tokens = 500\n",
        "\n",
        "# Function to split the text into chunks of a maximum number of tokens\n",
        "def split_into_many(text, max_tokens = max_tokens):\n",
        "\n",
        "    # Split the text into sentences\n",
        "    sentences = text.split('. ')\n",
        "\n",
        "    # Get the number of tokens for each sentence\n",
        "    n_tokens = [len(tokenizer.encode(\" \" + sentence)) for sentence in sentences]\n",
        "    \n",
        "    chunks = []\n",
        "    tokens_so_far = 0\n",
        "    chunk = []\n",
        "\n",
        "    # Loop through the sentences and tokens joined together in a tuple\n",
        "    for sentence, token in zip(sentences, n_tokens):\n",
        "\n",
        "        # If the number of tokens so far plus the number of tokens in the current sentence is greater \n",
        "        # than the max number of tokens, then add the chunk to the list of chunks and reset\n",
        "        # the chunk and tokens so far\n",
        "        if tokens_so_far + token > max_tokens:\n",
        "            chunks.append(\". \".join(chunk) + \".\")\n",
        "            chunk = []\n",
        "            tokens_so_far = 0\n",
        "\n",
        "        # If the number of tokens in the current sentence is greater than the max number of \n",
        "        # tokens, go to the next sentence\n",
        "        if token > max_tokens:\n",
        "            continue\n",
        "\n",
        "        # Otherwise, add the sentence to the chunk and add the number of tokens to the total\n",
        "        chunk.append(sentence)\n",
        "        tokens_so_far += token + 1\n",
        "\n",
        "    return chunks\n",
        "    \n",
        "\n",
        "shortened = []\n",
        "\n",
        "# Loop through the dataframe\n",
        "for row in df.iterrows():\n",
        "\n",
        "    # If the text is None, go to the next row\n",
        "    if row[1]['text'] is None:\n",
        "        continue\n",
        "\n",
        "    # If the number of tokens is greater than the max number of tokens, split the text into chunks\n",
        "    if row[1]['n_tokens'] > max_tokens:\n",
        "        shortened += split_into_many(row[1]['text'])\n",
        "    \n",
        "    # Otherwise, add the text to the list of shortened texts\n",
        "    else:\n",
        "        shortened.append( row[1]['text'] )"
      ]
    },
    {
      "cell_type": "code",
      "execution_count": null,
      "metadata": {
        "gather": {
          "logged": 1679490566344
        }
      },
      "outputs": [],
      "source": [
        "df = pd.DataFrame(shortened, columns = ['text'])\n",
        "df['n_tokens'] = df.text.apply(lambda x: len(tokenizer.encode(x)))\n",
        "df.n_tokens.hist()"
      ]
    },
    {
      "cell_type": "code",
      "execution_count": null,
      "metadata": {
        "gather": {
          "logged": 1679490566357
        }
      },
      "outputs": [],
      "source": [
        "import openai\n",
        "from ratelimit import limits, sleep_and_retry\n",
        "import config\n",
        "\n",
        "cfg = config.Config('config.py')\n",
        "\n",
        "openai.key = cfg['openai.key']\n",
        "\n",
        "# Set rate limit parameters\n",
        "RATE_LIMIT = 20  # Maximum number of requests per minute\n",
        "RATE_PERIOD = 60  # Time period for rate limit in seconds\n",
        "\n",
        "# Define rate limit decorator\n",
        "@sleep_and_retry\n",
        "@limits(calls=RATE_LIMIT, period=RATE_PERIOD)\n",
        "def get_embedding(text):\n",
        "    # Call OpenAI Embedding API to generate embedding\n",
        "    embedding = openai.Embedding.create(input=text, engine='text-embedding-ada-002')['data'][0]['embedding']\n",
        "    return embedding\n",
        "\n",
        "# Generate embeddings with rate limiting\n",
        "df['embeddings'] = df.text.apply(lambda x: get_embedding(x))\n",
        "df.to_csv('processed/embeddings.csv')\n",
        "df.head()"
      ]
    },
    {
      "cell_type": "code",
      "execution_count": null,
      "metadata": {
        "gather": {
          "logged": 1679490566374
        }
      },
      "outputs": [],
      "source": [
        "from openai.embeddings_utils import distances_from_embeddings\n",
        "\n",
        "# this looked looked like duplication of previous cell\n",
        "#df['embeddings'] = df.text.apply(lambda x: openai.Embedding.create(input=x, engine='text-embedding-ada-002')['data'][0]['embedding'])\n",
        "#df.to_csv('processed/embeddings.csv')\n",
        "#df.head()\n"
      ]
    },
    {
      "cell_type": "code",
      "execution_count": null,
      "metadata": {
        "gather": {
          "logged": 1679490566387
        }
      },
      "outputs": [],
      "source": [
        "import pandas as pd\n",
        "import numpy as np\n",
        "from openai.embeddings_utils import distances_from_embeddings, cosine_similarity\n",
        "\n",
        "df=pd.read_csv('processed/embeddings.csv', index_col=0)\n",
        "df['embeddings'] = df['embeddings'].apply(eval).apply(np.array)\n",
        "\n",
        "df.head()"
      ]
    },
    {
      "cell_type": "code",
      "execution_count": null,
      "metadata": {
        "gather": {
          "logged": 1679490566402
        }
      },
      "outputs": [],
      "source": [
        "def create_context(\n",
        "    question, df, max_len=1800, size=\"ada\"\n",
        "):\n",
        "    \"\"\"\n",
        "    Create a context for a question by finding the most similar context from the dataframe\n",
        "    \"\"\"\n",
        "\n",
        "    # Get the embeddings for the question\n",
        "    q_embeddings = openai.Embedding.create(input=question, engine='text-embedding-ada-002')['data'][0]['embedding']\n",
        "\n",
        "    # Get the distances from the embeddings\n",
        "    df['distances'] = distances_from_embeddings(q_embeddings, df['embeddings'].values, distance_metric='cosine')\n",
        "\n",
        "\n",
        "    returns = []\n",
        "    cur_len = 0\n",
        "\n",
        "    # Sort by distance and add the text to the context until the context is too long\n",
        "    for i, row in df.sort_values('distances', ascending=True).iterrows():\n",
        "        \n",
        "        # Add the length of the text to the current length\n",
        "        cur_len += row['n_tokens'] + 4\n",
        "        \n",
        "        # If the context is too long, break\n",
        "        if cur_len > max_len:\n",
        "            break\n",
        "        \n",
        "        # Else add it to the text that is being returned\n",
        "        returns.append(row[\"text\"])\n",
        "\n",
        "    # Return the context\n",
        "    return \"\\n\\n###\\n\\n\".join(returns)\n",
        "\n",
        "def answer_question(\n",
        "    df,\n",
        "    model=\"text-davinci-003\",\n",
        "    question=\"Am I allowed to publish model outputs to Twitter, without a human review?\",\n",
        "    max_len=1800,\n",
        "    size=\"ada\",\n",
        "    debug=False,\n",
        "    max_tokens=150,\n",
        "    stop_sequence=None\n",
        "):\n",
        "    \"\"\"\n",
        "    Answer a question based on the most similar context from the dataframe texts\n",
        "    \"\"\"\n",
        "    context = create_context(\n",
        "        question,\n",
        "        df,\n",
        "        max_len=max_len,\n",
        "        size=size,\n",
        "    )\n",
        "    # If debug, print the raw model response\n",
        "    if debug:\n",
        "        print(\"Context:\\n\" + context)\n",
        "        print(\"\\n\\n\")\n",
        "\n",
        "    try:\n",
        "        # Create a completions using the question and context\n",
        "        response = openai.Completion.create(\n",
        "            prompt=f\"Answer the question based on the context below, and if the question can't be answered based on the context, say \\\"I don't know\\\"\\n\\nContext: {context}\\n\\n---\\n\\nQuestion: {question}\\nAnswer:\",\n",
        "            temperature=0,\n",
        "            max_tokens=max_tokens,\n",
        "            top_p=1,\n",
        "            frequency_penalty=0,\n",
        "            presence_penalty=0,\n",
        "            stop=stop_sequence,\n",
        "            model=model,\n",
        "        )\n",
        "        return response[\"choices\"][0][\"text\"].strip()\n",
        "    except Exception as e:\n",
        "        print(e)\n",
        "        return \"\""
      ]
    },
    {
      "cell_type": "code",
      "execution_count": null,
      "metadata": {
        "gather": {
          "logged": 1679490566420
        }
      },
      "outputs": [],
      "source": [
        "answer_question(df, question=\"what are good sources of learning?\", debug=False)"
      ]
    },
    {
      "cell_type": "code",
      "execution_count": null,
      "metadata": {
        "gather": {
          "logged": 1679490566435
        }
      },
      "outputs": [],
      "source": [
        "answer_question(df, question=\"how to I manage timeseries data?\")"
      ]
    }
  ],
  "metadata": {
    "kernel_info": {
      "name": "python38-azureml"
    },
    "kernelspec": {
      "display_name": "Python 3.8 - AzureML",
      "language": "python",
      "name": "python38-azureml"
    },
    "language_info": {
      "codemirror_mode": {
        "name": "ipython",
        "version": 3
      },
      "file_extension": ".py",
      "mimetype": "text/x-python",
      "name": "python",
      "nbconvert_exporter": "python",
      "pygments_lexer": "ipython3",
      "version": "3.8.10"
    },
    "microsoft": {
      "host": {
        "AzureML": {
          "notebookHasBeenCompleted": true
        }
      },
      "ms_spell_check": {
        "ms_spell_check_language": "en"
      }
    },
    "nteract": {
      "version": "nteract-front-end@1.0.0"
    },
    "orig_nbformat": 4,
    "vscode": {
      "interpreter": {
        "hash": "05f34a34d73b71652304030c1097be3a5720ea2447153dd6542d145a26b73181"
      }
    }
  },
  "nbformat": 4,
  "nbformat_minor": 2
}
